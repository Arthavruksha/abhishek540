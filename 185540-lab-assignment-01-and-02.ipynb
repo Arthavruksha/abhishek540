{
 "cells": [
  {
   "cell_type": "code",
   "execution_count": 1,
   "id": "a8898558",
   "metadata": {
    "_cell_guid": "b1076dfc-b9ad-4769-8c92-a6c4dae69d19",
    "_uuid": "8f2839f25d086af736a60e9eeb907d3b93b6e0e5",
    "execution": {
     "iopub.execute_input": "2022-01-10T20:54:01.993932Z",
     "iopub.status.busy": "2022-01-10T20:54:01.992582Z",
     "iopub.status.idle": "2022-01-10T20:54:01.996230Z",
     "shell.execute_reply": "2022-01-10T20:54:01.995379Z",
     "shell.execute_reply.started": "2022-01-10T20:21:20.191579Z"
    },
    "papermill": {
     "duration": 0.072769,
     "end_time": "2022-01-10T20:54:01.996436",
     "exception": false,
     "start_time": "2022-01-10T20:54:01.923667",
     "status": "completed"
    },
    "tags": []
   },
   "outputs": [],
   "source": [
    "# This Python 3 environment comes with many helpful analytics libraries installed\n",
    "# It is defined by the kaggle/python Docker image: https://github.com/kaggle/docker-python\n",
    "# For example, here's several helpful packages to load\n",
    "\n",
    "import numpy as np # linear algebra\n",
    "import pandas as pd # data processing, CSV file I/O (e.g. pd.read_csv)\n",
    "\n",
    "# Input data files are available in the read-only \"../input/\" directory\n",
    "# For example, running this (by clicking run or pressing Shift+Enter) will list all files under the input directory\n",
    "\n",
    "import os\n",
    "for dirname, _, filenames in os.walk('/kaggle/input'):\n",
    "    for filename in filenames:\n",
    "        print(os.path.join(dirname, filename))\n",
    "\n",
    "# You can write up to 20GB to the current directory (/kaggle/working/) that gets preserved as output when you create a version using \"Save & Run All\" \n",
    "# You can also write temporary files to /kaggle/temp/, but they won't be saved outside of the current session"
   ]
  },
  {
   "cell_type": "markdown",
   "id": "0461f308",
   "metadata": {
    "papermill": {
     "duration": 0.052049,
     "end_time": "2022-01-10T20:54:02.101723",
     "exception": false,
     "start_time": "2022-01-10T20:54:02.049674",
     "status": "completed"
    },
    "tags": []
   },
   "source": [
    "----------------------------------------------------------------------------------------\n",
    "----------------------------------------------------------------------------------------\n",
    "> Q1. L is a list defined as L= [11, 12, 13, 14].\n"
   ]
  },
  {
   "cell_type": "code",
   "execution_count": 2,
   "id": "b41cf6a6",
   "metadata": {
    "execution": {
     "iopub.execute_input": "2022-01-10T20:54:02.209818Z",
     "iopub.status.busy": "2022-01-10T20:54:02.208750Z",
     "iopub.status.idle": "2022-01-10T20:54:02.214435Z",
     "shell.execute_reply": "2022-01-10T20:54:02.214920Z",
     "shell.execute_reply.started": "2022-01-10T20:21:20.201990Z"
    },
    "papermill": {
     "duration": 0.060537,
     "end_time": "2022-01-10T20:54:02.215123",
     "exception": false,
     "start_time": "2022-01-10T20:54:02.154586",
     "status": "completed"
    },
    "tags": []
   },
   "outputs": [
    {
     "name": "stdout",
     "output_type": "stream",
     "text": [
      "[11, 12, 13, 14]\n"
     ]
    }
   ],
   "source": [
    "L = [11,12,13,14]\n",
    "print(L)"
   ]
  },
  {
   "cell_type": "code",
   "execution_count": 3,
   "id": "7c1886b4",
   "metadata": {
    "execution": {
     "iopub.execute_input": "2022-01-10T20:54:02.322933Z",
     "iopub.status.busy": "2022-01-10T20:54:02.321821Z",
     "iopub.status.idle": "2022-01-10T20:54:02.327330Z",
     "shell.execute_reply": "2022-01-10T20:54:02.327851Z",
     "shell.execute_reply.started": "2022-01-10T20:21:20.253809Z"
    },
    "papermill": {
     "duration": 0.060534,
     "end_time": "2022-01-10T20:54:02.328062",
     "exception": false,
     "start_time": "2022-01-10T20:54:02.267528",
     "status": "completed"
    },
    "tags": []
   },
   "outputs": [
    {
     "name": "stdout",
     "output_type": "stream",
     "text": [
      "[11, 12, 13, 14, 50, 60]\n"
     ]
    }
   ],
   "source": [
    "# i. WAP to add 50 and 60 to L.\n",
    "L.append(50)\n",
    "L.append(60)\n",
    "print(L)"
   ]
  },
  {
   "cell_type": "code",
   "execution_count": 4,
   "id": "e8c29804",
   "metadata": {
    "execution": {
     "iopub.execute_input": "2022-01-10T20:54:02.438909Z",
     "iopub.status.busy": "2022-01-10T20:54:02.438249Z",
     "iopub.status.idle": "2022-01-10T20:54:02.443177Z",
     "shell.execute_reply": "2022-01-10T20:54:02.443774Z",
     "shell.execute_reply.started": "2022-01-10T20:21:20.263700Z"
    },
    "papermill": {
     "duration": 0.064803,
     "end_time": "2022-01-10T20:54:02.443962",
     "exception": false,
     "start_time": "2022-01-10T20:54:02.379159",
     "status": "completed"
    },
    "tags": []
   },
   "outputs": [
    {
     "name": "stdout",
     "output_type": "stream",
     "text": [
      "[12, 14, 50, 60]\n"
     ]
    }
   ],
   "source": [
    "# ii. WAP to remove 11 and 13from L.\n",
    "L.remove(11)\n",
    "L.remove(13)\n",
    "print(L)"
   ]
  },
  {
   "cell_type": "code",
   "execution_count": 5,
   "id": "cc3dfb8c",
   "metadata": {
    "execution": {
     "iopub.execute_input": "2022-01-10T20:54:02.550864Z",
     "iopub.status.busy": "2022-01-10T20:54:02.550189Z",
     "iopub.status.idle": "2022-01-10T20:54:02.554535Z",
     "shell.execute_reply": "2022-01-10T20:54:02.555136Z",
     "shell.execute_reply.started": "2022-01-10T20:21:20.315168Z"
    },
    "papermill": {
     "duration": 0.060037,
     "end_time": "2022-01-10T20:54:02.555321",
     "exception": false,
     "start_time": "2022-01-10T20:54:02.495284",
     "status": "completed"
    },
    "tags": []
   },
   "outputs": [
    {
     "name": "stdout",
     "output_type": "stream",
     "text": [
      "[12, 14, 50, 60]\n"
     ]
    }
   ],
   "source": [
    "# iii.WAP to sort L in ascending order.\n",
    "L.sort()\n",
    "print(L)"
   ]
  },
  {
   "cell_type": "code",
   "execution_count": 6,
   "id": "7a29141d",
   "metadata": {
    "execution": {
     "iopub.execute_input": "2022-01-10T20:54:02.666607Z",
     "iopub.status.busy": "2022-01-10T20:54:02.665882Z",
     "iopub.status.idle": "2022-01-10T20:54:02.668579Z",
     "shell.execute_reply": "2022-01-10T20:54:02.669088Z",
     "shell.execute_reply.started": "2022-01-10T20:21:20.323469Z"
    },
    "papermill": {
     "duration": 0.061053,
     "end_time": "2022-01-10T20:54:02.669278",
     "exception": false,
     "start_time": "2022-01-10T20:54:02.608225",
     "status": "completed"
    },
    "tags": []
   },
   "outputs": [
    {
     "name": "stdout",
     "output_type": "stream",
     "text": [
      "[60, 50, 14, 12]\n"
     ]
    }
   ],
   "source": [
    "# iv. WAP to sort L in descending order.\n",
    "L.sort(reverse=True)\n",
    "print(L)"
   ]
  },
  {
   "cell_type": "code",
   "execution_count": 7,
   "id": "269b1573",
   "metadata": {
    "execution": {
     "iopub.execute_input": "2022-01-10T20:54:02.777372Z",
     "iopub.status.busy": "2022-01-10T20:54:02.776668Z",
     "iopub.status.idle": "2022-01-10T20:54:02.781751Z",
     "shell.execute_reply": "2022-01-10T20:54:02.782367Z",
     "shell.execute_reply.started": "2022-01-10T20:21:20.383832Z"
    },
    "papermill": {
     "duration": 0.060678,
     "end_time": "2022-01-10T20:54:02.782556",
     "exception": false,
     "start_time": "2022-01-10T20:54:02.721878",
     "status": "completed"
    },
    "tags": []
   },
   "outputs": [
    {
     "name": "stdout",
     "output_type": "stream",
     "text": [
      "2\n"
     ]
    }
   ],
   "source": [
    "# v. WAP to search for 13 in L.\n",
    "print(L.index(14))"
   ]
  },
  {
   "cell_type": "code",
   "execution_count": 8,
   "id": "18a0ec7e",
   "metadata": {
    "execution": {
     "iopub.execute_input": "2022-01-10T20:54:02.890408Z",
     "iopub.status.busy": "2022-01-10T20:54:02.889723Z",
     "iopub.status.idle": "2022-01-10T20:54:02.894638Z",
     "shell.execute_reply": "2022-01-10T20:54:02.895209Z",
     "shell.execute_reply.started": "2022-01-10T20:21:20.393132Z"
    },
    "papermill": {
     "duration": 0.060823,
     "end_time": "2022-01-10T20:54:02.895403",
     "exception": false,
     "start_time": "2022-01-10T20:54:02.834580",
     "status": "completed"
    },
    "tags": []
   },
   "outputs": [
    {
     "name": "stdout",
     "output_type": "stream",
     "text": [
      "4\n"
     ]
    }
   ],
   "source": [
    "# vi. WAP to count the number of elements present in L.\n",
    "print(len(L))"
   ]
  },
  {
   "cell_type": "code",
   "execution_count": 9,
   "id": "4fb8cad8",
   "metadata": {
    "execution": {
     "iopub.execute_input": "2022-01-10T20:54:03.004224Z",
     "iopub.status.busy": "2022-01-10T20:54:03.003538Z",
     "iopub.status.idle": "2022-01-10T20:54:03.011645Z",
     "shell.execute_reply": "2022-01-10T20:54:03.011114Z",
     "shell.execute_reply.started": "2022-01-10T20:21:20.408672Z"
    },
    "papermill": {
     "duration": 0.064007,
     "end_time": "2022-01-10T20:54:03.011811",
     "exception": false,
     "start_time": "2022-01-10T20:54:02.947804",
     "status": "completed"
    },
    "tags": []
   },
   "outputs": [
    {
     "data": {
      "text/plain": [
       "136"
      ]
     },
     "execution_count": 9,
     "metadata": {},
     "output_type": "execute_result"
    }
   ],
   "source": [
    "# vii. WAP to sum all the elements in L.\n",
    "sum(L)"
   ]
  },
  {
   "cell_type": "code",
   "execution_count": 10,
   "id": "b9721064",
   "metadata": {
    "execution": {
     "iopub.execute_input": "2022-01-10T20:54:03.124495Z",
     "iopub.status.busy": "2022-01-10T20:54:03.123787Z",
     "iopub.status.idle": "2022-01-10T20:54:03.129252Z",
     "shell.execute_reply": "2022-01-10T20:54:03.129746Z",
     "shell.execute_reply.started": "2022-01-10T20:21:20.453185Z"
    },
    "papermill": {
     "duration": 0.064431,
     "end_time": "2022-01-10T20:54:03.129929",
     "exception": false,
     "start_time": "2022-01-10T20:54:03.065498",
     "status": "completed"
    },
    "tags": []
   },
   "outputs": [
    {
     "data": {
      "text/plain": [
       "0"
      ]
     },
     "execution_count": 10,
     "metadata": {},
     "output_type": "execute_result"
    }
   ],
   "source": [
    "# viii. WAP to sum all ODD numbers in L.\n",
    "sum(x for x in L if x%2)"
   ]
  },
  {
   "cell_type": "code",
   "execution_count": 11,
   "id": "c817f46b",
   "metadata": {
    "execution": {
     "iopub.execute_input": "2022-01-10T20:54:03.240554Z",
     "iopub.status.busy": "2022-01-10T20:54:03.239784Z",
     "iopub.status.idle": "2022-01-10T20:54:03.245495Z",
     "shell.execute_reply": "2022-01-10T20:54:03.244817Z",
     "shell.execute_reply.started": "2022-01-10T20:21:20.463548Z"
    },
    "papermill": {
     "duration": 0.062236,
     "end_time": "2022-01-10T20:54:03.245649",
     "exception": false,
     "start_time": "2022-01-10T20:54:03.183413",
     "status": "completed"
    },
    "tags": []
   },
   "outputs": [
    {
     "data": {
      "text/plain": [
       "136"
      ]
     },
     "execution_count": 11,
     "metadata": {},
     "output_type": "execute_result"
    }
   ],
   "source": [
    "# ix. WAP to sum all EVEN numbers in L.\n",
    "sum(x for x in L if not x%2)"
   ]
  },
  {
   "cell_type": "code",
   "execution_count": 12,
   "id": "1d0a804c",
   "metadata": {
    "execution": {
     "iopub.execute_input": "2022-01-10T20:54:03.362127Z",
     "iopub.status.busy": "2022-01-10T20:54:03.361267Z",
     "iopub.status.idle": "2022-01-10T20:54:03.365446Z",
     "shell.execute_reply": "2022-01-10T20:54:03.364915Z",
     "shell.execute_reply.started": "2022-01-10T20:21:20.503507Z"
    },
    "papermill": {
     "duration": 0.066059,
     "end_time": "2022-01-10T20:54:03.365606",
     "exception": false,
     "start_time": "2022-01-10T20:54:03.299547",
     "status": "completed"
    },
    "tags": []
   },
   "outputs": [
    {
     "data": {
      "text/plain": [
       "0"
      ]
     },
     "execution_count": 12,
     "metadata": {},
     "output_type": "execute_result"
    }
   ],
   "source": [
    "# x. WAP to sum all PRIME numbers in L.\n",
    "from math import sqrt\n",
    "def isprime(n):\n",
    "    prime_flag = 0\n",
    "\n",
    "    if(n > 1):\n",
    "        for i in range(2, int(sqrt(n)) + 1):\n",
    "            if (n % i == 0):\n",
    "                prime_flag = 1\n",
    "                break\n",
    "        if (prime_flag == 0):\n",
    "            return True\n",
    "        else:\n",
    "            return False\n",
    "    else:\n",
    "        return False\n",
    "\n",
    "sum(x for x in L if isprime(x))"
   ]
  },
  {
   "cell_type": "code",
   "execution_count": 13,
   "id": "e32012d7",
   "metadata": {
    "execution": {
     "iopub.execute_input": "2022-01-10T20:54:03.478761Z",
     "iopub.status.busy": "2022-01-10T20:54:03.478103Z",
     "iopub.status.idle": "2022-01-10T20:54:03.480796Z",
     "shell.execute_reply": "2022-01-10T20:54:03.481294Z",
     "shell.execute_reply.started": "2022-01-10T20:21:20.518617Z"
    },
    "papermill": {
     "duration": 0.06202,
     "end_time": "2022-01-10T20:54:03.481475",
     "exception": false,
     "start_time": "2022-01-10T20:54:03.419455",
     "status": "completed"
    },
    "tags": []
   },
   "outputs": [
    {
     "name": "stdout",
     "output_type": "stream",
     "text": [
      "[]\n"
     ]
    }
   ],
   "source": [
    "# xi. WAP to clear all the elements in L.\n",
    "L.clear()\n",
    "print(L)"
   ]
  },
  {
   "cell_type": "code",
   "execution_count": 14,
   "id": "d915fe71",
   "metadata": {
    "execution": {
     "iopub.execute_input": "2022-01-10T20:54:03.594774Z",
     "iopub.status.busy": "2022-01-10T20:54:03.594124Z",
     "iopub.status.idle": "2022-01-10T20:54:03.597468Z",
     "shell.execute_reply": "2022-01-10T20:54:03.598071Z",
     "shell.execute_reply.started": "2022-01-10T20:21:20.529228Z"
    },
    "papermill": {
     "duration": 0.062732,
     "end_time": "2022-01-10T20:54:03.598254",
     "exception": false,
     "start_time": "2022-01-10T20:54:03.535522",
     "status": "completed"
    },
    "tags": []
   },
   "outputs": [],
   "source": [
    "# xii. WAP to delete L.\n",
    "del L\n",
    "# print(L)"
   ]
  },
  {
   "cell_type": "markdown",
   "id": "dd404893",
   "metadata": {
    "papermill": {
     "duration": 0.054137,
     "end_time": "2022-01-10T20:54:03.706746",
     "exception": false,
     "start_time": "2022-01-10T20:54:03.652609",
     "status": "completed"
    },
    "tags": []
   },
   "source": [
    "----------------------------------------------------------------------------------------\n",
    "----------------------------------------------------------------------------------------\n",
    "> Q2. D is a dictionary defined as D= {1:5.6, 2:7.8, 3:6.6, 4:8.7, 5:7.7}.\n",
    "\n",
    "\n",
    "\n",
    "i. WAP to add new entry in D; key=8 and value is 8.8\n",
    "\n",
    "ii. WAP to remove key=2.\n",
    "\n",
    "\n",
    "iii. WAP to check weather 6 key is present in D.\n",
    "\n",
    "iv. WAP to count the number of elements present in D.\n",
    "\n",
    "v. WAP to add all the values present D.\n",
    "\n",
    "vi. WAP to update the value of 3 to 7.1.\n",
    "\n",
    "vii. WAP to clear the dictionary.\n",
    "\n",
    "\n"
   ]
  },
  {
   "cell_type": "code",
   "execution_count": 15,
   "id": "ccb0e3cb",
   "metadata": {
    "execution": {
     "iopub.execute_input": "2022-01-10T20:54:03.819701Z",
     "iopub.status.busy": "2022-01-10T20:54:03.819059Z",
     "iopub.status.idle": "2022-01-10T20:54:03.824947Z",
     "shell.execute_reply": "2022-01-10T20:54:03.825478Z",
     "shell.execute_reply.started": "2022-01-10T20:21:20.543771Z"
    },
    "papermill": {
     "duration": 0.064191,
     "end_time": "2022-01-10T20:54:03.825679",
     "exception": false,
     "start_time": "2022-01-10T20:54:03.761488",
     "status": "completed"
    },
    "tags": []
   },
   "outputs": [
    {
     "name": "stdout",
     "output_type": "stream",
     "text": [
      "{1: 5.6, 2: 7.8, 3: 6.6, 4: 8.7, 5: 7.7}\n",
      "<class 'dict'>\n"
     ]
    }
   ],
   "source": [
    "# Q2. D is a dictionary defined as D= {1:5.6, 2:7.8, 3:6.6, 4:8.7, 5:7.7}.\n",
    "\n",
    "D= {1:5.6, 2:7.8, 3:6.6, 4:8.7, 5:7.7}\n",
    "print(D)\n",
    "print(type(D))"
   ]
  },
  {
   "cell_type": "code",
   "execution_count": 16,
   "id": "6b9f3e22",
   "metadata": {
    "execution": {
     "iopub.execute_input": "2022-01-10T20:54:03.946550Z",
     "iopub.status.busy": "2022-01-10T20:54:03.945445Z",
     "iopub.status.idle": "2022-01-10T20:54:03.951861Z",
     "shell.execute_reply": "2022-01-10T20:54:03.951332Z",
     "shell.execute_reply.started": "2022-01-10T20:21:20.564898Z"
    },
    "papermill": {
     "duration": 0.071938,
     "end_time": "2022-01-10T20:54:03.952054",
     "exception": false,
     "start_time": "2022-01-10T20:54:03.880116",
     "status": "completed"
    },
    "tags": []
   },
   "outputs": [
    {
     "name": "stdout",
     "output_type": "stream",
     "text": [
      "{1: 5.6, 2: 7.8, 3: 6.6, 4: 8.7, 5: 7.7, 8: 8.8}\n"
     ]
    }
   ],
   "source": [
    "# i. WAP to add new entry in D; key=8 and value is 8.8\n",
    "D[8]=8.8\n",
    "print(D)"
   ]
  },
  {
   "cell_type": "code",
   "execution_count": 17,
   "id": "15630830",
   "metadata": {
    "execution": {
     "iopub.execute_input": "2022-01-10T20:54:04.070149Z",
     "iopub.status.busy": "2022-01-10T20:54:04.069076Z",
     "iopub.status.idle": "2022-01-10T20:54:04.076079Z",
     "shell.execute_reply": "2022-01-10T20:54:04.075163Z",
     "shell.execute_reply.started": "2022-01-10T20:21:20.584531Z"
    },
    "papermill": {
     "duration": 0.066747,
     "end_time": "2022-01-10T20:54:04.076321",
     "exception": false,
     "start_time": "2022-01-10T20:54:04.009574",
     "status": "completed"
    },
    "tags": []
   },
   "outputs": [
    {
     "name": "stdout",
     "output_type": "stream",
     "text": [
      "{1: 5.6, 3: 6.6, 4: 8.7, 5: 7.7, 8: 8.8}\n"
     ]
    }
   ],
   "source": [
    "# ii. WAP to remove key=2.\n",
    "del D[2]\n",
    "print(D)"
   ]
  },
  {
   "cell_type": "code",
   "execution_count": 18,
   "id": "25c19e77",
   "metadata": {
    "execution": {
     "iopub.execute_input": "2022-01-10T20:54:04.193798Z",
     "iopub.status.busy": "2022-01-10T20:54:04.193103Z",
     "iopub.status.idle": "2022-01-10T20:54:04.197720Z",
     "shell.execute_reply": "2022-01-10T20:54:04.198423Z",
     "shell.execute_reply.started": "2022-01-10T20:21:20.593605Z"
    },
    "papermill": {
     "duration": 0.065079,
     "end_time": "2022-01-10T20:54:04.198679",
     "exception": false,
     "start_time": "2022-01-10T20:54:04.133600",
     "status": "completed"
    },
    "tags": []
   },
   "outputs": [
    {
     "name": "stdout",
     "output_type": "stream",
     "text": [
      "It is not present\n"
     ]
    }
   ],
   "source": [
    "# iii. WAP to check weather 6 key is present in D.\n",
    "if 6 in D.keys():\n",
    "    print(\"It is present\")\n",
    "else:\n",
    "    print(\"It is not present\")"
   ]
  },
  {
   "cell_type": "code",
   "execution_count": 19,
   "id": "c6f578fa",
   "metadata": {
    "execution": {
     "iopub.execute_input": "2022-01-10T20:54:04.315041Z",
     "iopub.status.busy": "2022-01-10T20:54:04.314241Z",
     "iopub.status.idle": "2022-01-10T20:54:04.318451Z",
     "shell.execute_reply": "2022-01-10T20:54:04.319136Z",
     "shell.execute_reply.started": "2022-01-10T20:21:20.607410Z"
    },
    "papermill": {
     "duration": 0.064481,
     "end_time": "2022-01-10T20:54:04.319390",
     "exception": false,
     "start_time": "2022-01-10T20:54:04.254909",
     "status": "completed"
    },
    "tags": []
   },
   "outputs": [
    {
     "name": "stdout",
     "output_type": "stream",
     "text": [
      "5\n"
     ]
    }
   ],
   "source": [
    "# iv. WAP to count the number of elements present in D.\n",
    "print(len(D))"
   ]
  },
  {
   "cell_type": "code",
   "execution_count": 20,
   "id": "e4169b2a",
   "metadata": {
    "execution": {
     "iopub.execute_input": "2022-01-10T20:54:04.436570Z",
     "iopub.status.busy": "2022-01-10T20:54:04.435770Z",
     "iopub.status.idle": "2022-01-10T20:54:04.441830Z",
     "shell.execute_reply": "2022-01-10T20:54:04.441197Z",
     "shell.execute_reply.started": "2022-01-10T20:21:20.633438Z"
    },
    "papermill": {
     "duration": 0.065125,
     "end_time": "2022-01-10T20:54:04.441980",
     "exception": false,
     "start_time": "2022-01-10T20:54:04.376855",
     "status": "completed"
    },
    "tags": []
   },
   "outputs": [
    {
     "data": {
      "text/plain": [
       "37.4"
      ]
     },
     "execution_count": 20,
     "metadata": {},
     "output_type": "execute_result"
    }
   ],
   "source": [
    "# v. WAP to add all the values present D.\n",
    "sum(D.values())"
   ]
  },
  {
   "cell_type": "code",
   "execution_count": 21,
   "id": "e67dc2b4",
   "metadata": {
    "execution": {
     "iopub.execute_input": "2022-01-10T20:54:04.561788Z",
     "iopub.status.busy": "2022-01-10T20:54:04.561045Z",
     "iopub.status.idle": "2022-01-10T20:54:04.564516Z",
     "shell.execute_reply": "2022-01-10T20:54:04.563863Z",
     "shell.execute_reply.started": "2022-01-10T20:21:20.642906Z"
    },
    "papermill": {
     "duration": 0.065418,
     "end_time": "2022-01-10T20:54:04.564678",
     "exception": false,
     "start_time": "2022-01-10T20:54:04.499260",
     "status": "completed"
    },
    "tags": []
   },
   "outputs": [
    {
     "name": "stdout",
     "output_type": "stream",
     "text": [
      "{1: 5.6, 3: 7.1, 4: 8.7, 5: 7.7, 8: 8.8}\n"
     ]
    }
   ],
   "source": [
    "# vi. WAP to update the value of 3 to 7.1.\n",
    "D[3] = 7.1\n",
    "print(D)"
   ]
  },
  {
   "cell_type": "code",
   "execution_count": 22,
   "id": "8386fb9e",
   "metadata": {
    "execution": {
     "iopub.execute_input": "2022-01-10T20:54:04.684440Z",
     "iopub.status.busy": "2022-01-10T20:54:04.683730Z",
     "iopub.status.idle": "2022-01-10T20:54:04.686462Z",
     "shell.execute_reply": "2022-01-10T20:54:04.686964Z",
     "shell.execute_reply.started": "2022-01-10T20:21:20.658512Z"
    },
    "papermill": {
     "duration": 0.065488,
     "end_time": "2022-01-10T20:54:04.687186",
     "exception": false,
     "start_time": "2022-01-10T20:54:04.621698",
     "status": "completed"
    },
    "tags": []
   },
   "outputs": [
    {
     "name": "stdout",
     "output_type": "stream",
     "text": [
      "{}\n"
     ]
    }
   ],
   "source": [
    "# vii. WAP to clear the dictionary.\n",
    "D.clear()\n",
    "print(D)"
   ]
  },
  {
   "cell_type": "markdown",
   "id": "a1c862f5",
   "metadata": {
    "papermill": {
     "duration": 0.056773,
     "end_time": "2022-01-10T20:54:04.802827",
     "exception": false,
     "start_time": "2022-01-10T20:54:04.746054",
     "status": "completed"
    },
    "tags": []
   },
   "source": [
    "----------------------------------------------------------------------------------------\n",
    "\n",
    "----------------------------------------------------------------------------------------\n",
    "\n",
    "\n",
    "> Q3. S1 is a set defined as S1= [10, 20, 30, 40, 50, 60].\n",
    "S2 is a set defined as S2= [40, 50, 60, 70, 80, 90].\n",
    "\n",
    "i. WAP to add 55 and 66 in Set S1.\n",
    "\n",
    "ii. WAP to remove 10 and 30 from Set S1.\n",
    "\n",
    "\n",
    "iii. WAP to check whether 40 is present in S1.\n",
    "\n",
    "iv. WAP to find the union between S1 and S2.\n",
    "\n",
    "v. WAP to find the intersection between S1 and S2.\n",
    "\n",
    "vi. WAP to find the S1 - S2.\n"
   ]
  },
  {
   "cell_type": "code",
   "execution_count": 23,
   "id": "b388afd8",
   "metadata": {
    "execution": {
     "iopub.execute_input": "2022-01-10T20:54:04.921310Z",
     "iopub.status.busy": "2022-01-10T20:54:04.920616Z",
     "iopub.status.idle": "2022-01-10T20:54:04.927364Z",
     "shell.execute_reply": "2022-01-10T20:54:04.927976Z",
     "shell.execute_reply.started": "2022-01-10T20:21:20.672449Z"
    },
    "papermill": {
     "duration": 0.067563,
     "end_time": "2022-01-10T20:54:04.928185",
     "exception": false,
     "start_time": "2022-01-10T20:54:04.860622",
     "status": "completed"
    },
    "tags": []
   },
   "outputs": [
    {
     "name": "stdout",
     "output_type": "stream",
     "text": [
      "{40, 10, 50, 20, 60, 30}\n",
      "<class 'set'>\n",
      "{70, 40, 80, 50, 90, 60}\n",
      "<class 'set'>\n"
     ]
    }
   ],
   "source": [
    "# Q3. S1 is a set defined as S1= [10, 20, 30, 40, 50, 60]. S2 is a set defined as S2= [40, 50, 60, 70, 80, 90].\n",
    "S1 = {10,20,30,40,50,60}\n",
    "print(S1)\n",
    "print(type(S1))\n",
    "\n",
    "S2= {40, 50, 60, 70, 80, 90}\n",
    "print(S2)\n",
    "print(type(S2))"
   ]
  },
  {
   "cell_type": "code",
   "execution_count": 24,
   "id": "1be47248",
   "metadata": {
    "execution": {
     "iopub.execute_input": "2022-01-10T20:54:05.047761Z",
     "iopub.status.busy": "2022-01-10T20:54:05.047123Z",
     "iopub.status.idle": "2022-01-10T20:54:05.052170Z",
     "shell.execute_reply": "2022-01-10T20:54:05.052787Z",
     "shell.execute_reply.started": "2022-01-10T20:21:20.695003Z"
    },
    "papermill": {
     "duration": 0.066659,
     "end_time": "2022-01-10T20:54:05.052980",
     "exception": false,
     "start_time": "2022-01-10T20:54:04.986321",
     "status": "completed"
    },
    "tags": []
   },
   "outputs": [
    {
     "name": "stdout",
     "output_type": "stream",
     "text": [
      "{66, 40, 10, 50, 20, 55, 60, 30}\n"
     ]
    }
   ],
   "source": [
    "# i. WAP to add 55 and 66 in Set S1.\n",
    "S1.add(55)\n",
    "S1.add(66)\n",
    "print(S1)"
   ]
  },
  {
   "cell_type": "code",
   "execution_count": 25,
   "id": "885264ea",
   "metadata": {
    "execution": {
     "iopub.execute_input": "2022-01-10T20:54:05.173445Z",
     "iopub.status.busy": "2022-01-10T20:54:05.172702Z",
     "iopub.status.idle": "2022-01-10T20:54:05.178453Z",
     "shell.execute_reply": "2022-01-10T20:54:05.179478Z",
     "shell.execute_reply.started": "2022-01-10T20:21:20.707722Z"
    },
    "papermill": {
     "duration": 0.068712,
     "end_time": "2022-01-10T20:54:05.179836",
     "exception": false,
     "start_time": "2022-01-10T20:54:05.111124",
     "status": "completed"
    },
    "tags": []
   },
   "outputs": [
    {
     "name": "stdout",
     "output_type": "stream",
     "text": [
      "{66, 40, 50, 20, 55, 60}\n"
     ]
    }
   ],
   "source": [
    "# ii. WAP to remove 10 and 30 from Set S1.\n",
    "S1.remove(10)\n",
    "S1.remove(30)\n",
    "print(S1)"
   ]
  },
  {
   "cell_type": "code",
   "execution_count": 26,
   "id": "67dff539",
   "metadata": {
    "execution": {
     "iopub.execute_input": "2022-01-10T20:54:05.305146Z",
     "iopub.status.busy": "2022-01-10T20:54:05.303975Z",
     "iopub.status.idle": "2022-01-10T20:54:05.307859Z",
     "shell.execute_reply": "2022-01-10T20:54:05.308373Z",
     "shell.execute_reply.started": "2022-01-10T20:21:20.718300Z"
    },
    "papermill": {
     "duration": 0.069056,
     "end_time": "2022-01-10T20:54:05.308563",
     "exception": false,
     "start_time": "2022-01-10T20:54:05.239507",
     "status": "completed"
    },
    "tags": []
   },
   "outputs": [
    {
     "name": "stdout",
     "output_type": "stream",
     "text": [
      "It is present\n"
     ]
    }
   ],
   "source": [
    "# iii. WAP to check whether 40 is present in S1.\n",
    "if 40 in S1:\n",
    "    print(\"It is present\")\n",
    "else: \n",
    "    print(\"It is not present\")"
   ]
  },
  {
   "cell_type": "code",
   "execution_count": 27,
   "id": "89b43a7a",
   "metadata": {
    "execution": {
     "iopub.execute_input": "2022-01-10T20:54:05.431621Z",
     "iopub.status.busy": "2022-01-10T20:54:05.430847Z",
     "iopub.status.idle": "2022-01-10T20:54:05.433943Z",
     "shell.execute_reply": "2022-01-10T20:54:05.434477Z",
     "shell.execute_reply.started": "2022-01-10T20:21:20.736117Z"
    },
    "papermill": {
     "duration": 0.067163,
     "end_time": "2022-01-10T20:54:05.434660",
     "exception": false,
     "start_time": "2022-01-10T20:54:05.367497",
     "status": "completed"
    },
    "tags": []
   },
   "outputs": [
    {
     "name": "stdout",
     "output_type": "stream",
     "text": [
      "{66, 70, 40, 80, 50, 20, 55, 90, 60}\n"
     ]
    }
   ],
   "source": [
    "# iv. WAP to find the union between S1 and S2.\n",
    "S3 = S1.union(S2)\n",
    "print(S3)"
   ]
  },
  {
   "cell_type": "code",
   "execution_count": 28,
   "id": "59aca05f",
   "metadata": {
    "execution": {
     "iopub.execute_input": "2022-01-10T20:54:05.557539Z",
     "iopub.status.busy": "2022-01-10T20:54:05.555394Z",
     "iopub.status.idle": "2022-01-10T20:54:05.560899Z",
     "shell.execute_reply": "2022-01-10T20:54:05.561589Z",
     "shell.execute_reply.started": "2022-01-10T20:21:20.765328Z"
    },
    "papermill": {
     "duration": 0.068723,
     "end_time": "2022-01-10T20:54:05.561847",
     "exception": false,
     "start_time": "2022-01-10T20:54:05.493124",
     "status": "completed"
    },
    "tags": []
   },
   "outputs": [
    {
     "name": "stdout",
     "output_type": "stream",
     "text": [
      "{40, 50, 60}\n"
     ]
    }
   ],
   "source": [
    "# v. WAP to find the intersection between S1 and S2.\n",
    "S4 = S1.intersection(S2)\n",
    "print(S4)"
   ]
  },
  {
   "cell_type": "code",
   "execution_count": 29,
   "id": "8d3accef",
   "metadata": {
    "execution": {
     "iopub.execute_input": "2022-01-10T20:54:05.686377Z",
     "iopub.status.busy": "2022-01-10T20:54:05.685392Z",
     "iopub.status.idle": "2022-01-10T20:54:05.689053Z",
     "shell.execute_reply": "2022-01-10T20:54:05.690114Z",
     "shell.execute_reply.started": "2022-01-10T20:21:20.773153Z"
    },
    "papermill": {
     "duration": 0.068904,
     "end_time": "2022-01-10T20:54:05.690395",
     "exception": false,
     "start_time": "2022-01-10T20:54:05.621491",
     "status": "completed"
    },
    "tags": []
   },
   "outputs": [
    {
     "name": "stdout",
     "output_type": "stream",
     "text": [
      "{66, 20, 55}\n"
     ]
    }
   ],
   "source": [
    "# vi. WAP to find the S1 - S2.\n",
    "S5 = S1-S2\n",
    "print(S5)"
   ]
  },
  {
   "cell_type": "markdown",
   "id": "e57e211f",
   "metadata": {
    "papermill": {
     "duration": 0.059168,
     "end_time": "2022-01-10T20:54:05.810507",
     "exception": false,
     "start_time": "2022-01-10T20:54:05.751339",
     "status": "completed"
    },
    "tags": []
   },
   "source": [
    "----------------------------------------------------------------------------------------\n",
    "----------------------------------------------------------------------------------------\n",
    "\n",
    "> Q4. Write the following program.\n",
    "\n",
    "i. WAP to print 100 random strings whose length between 6 and 8.\n",
    "\n",
    "ii. WAP to print all prime numbers between 600 and 800.\n",
    "\n",
    "iii. WAP to print all numbers between 100 and 1000 that are divisible by 7 and 9."
   ]
  },
  {
   "cell_type": "code",
   "execution_count": 30,
   "id": "bdd824cf",
   "metadata": {
    "execution": {
     "iopub.execute_input": "2022-01-10T20:54:05.936601Z",
     "iopub.status.busy": "2022-01-10T20:54:05.935856Z",
     "iopub.status.idle": "2022-01-10T20:54:05.945160Z",
     "shell.execute_reply": "2022-01-10T20:54:05.945691Z",
     "shell.execute_reply.started": "2022-01-10T20:21:20.788202Z"
    },
    "papermill": {
     "duration": 0.076691,
     "end_time": "2022-01-10T20:54:05.945877",
     "exception": false,
     "start_time": "2022-01-10T20:54:05.869186",
     "status": "completed"
    },
    "tags": []
   },
   "outputs": [
    {
     "name": "stdout",
     "output_type": "stream",
     "text": [
      "['IB?,H5H', 'Yu$NHV-', 'F)Dw2p', '#0c5XY', '&GI5g_', 'pBeZd4', '`|EY~O', '2{Pf4&%T', '/;eLQz', 'Ha*WT8v[', '39Fdr3', 'gc>gX;LZ', '?2%y2h', '4U$J?CA', 'NNh146Y', ';[3=7Jh+', 'r1,rg\\\\f', 'Y:3Mo?m', \"/,@'xR{2\", 'nIUTJW]', 'V|FuCl', '@xnGp[', 'L~27Y=', '@<;IJx', '[/`:c,<I', \"\\\\bf'YLL/\", 'md((]X', '{%L.MK', 'Cme&mW4', 'vc.Iu(g_', '6b{p}|', 'H6u.g}.', 'CQGSKo', \"N1CI'n\", 'eyAq9z', 'B,d!mOp', \"H)LWJ'+\", 'mU!;KV', 'Pq{U5f', ')&WU~z', 'FR<$_!', \"6mf'q'v\", 'BIxkoIrq', \"/'DBk`\", '(u_;qW', 'jq\\\\-d]G`', 'CW4jaVi9', '!ecu89&', '=)M%RyD-', 'K!xFfRtC', \"7Ok$dC['\", 'Q{h}TrC', 'b_%/6&:', 'N{;gzeYR', \"U<q.7x.'\", 'bzgo?{gT', '%/`r(`>=', 'lwB#@.B', 'UTeX*O', '0.X~]M', \"Y/$'4esA\", 'E6\\\\nc*A', '[un[uK', '-4i-R_', '|}K[o0', 'ej0|c,i7', '&.(NYJ', '8eZ<Xe', 'j<Nhs6^', 't0&(+@', '3yY]xRZ', 'LPg:$?', '?!lmsI8', 'TQ}J;$', '(x\\\\i#)', 'aOMs4s!_', \"3U&o']#\", 's5=Gr\\\\', ']WYv_n!', 'kJU^1d', ';r(z:U', 'IxT6*0i^', '<I[RrQ', 'Stx?_0', '/!\\\\AfLP8', '3z(1.%Ut', '<i+7H)', '{b~$FV', ',zP\"Pgi', '7u;q0jZ', '`NtA[%{', 'W@EH:p*', 'Vy-T[t$', \")'7,\\\\~H\", '42-lODK', 'a8Z}+.R(', 'eS8GRvI+', 'gqC_akk', 'acgf;r', 'qByrQ><']\n"
     ]
    }
   ],
   "source": [
    "# i. WAP to print 100 random strings whose length between 6 and 8.\n",
    "import string\n",
    "import secrets\n",
    "import random\n",
    "\n",
    "X = []\n",
    "for i in range(100):\n",
    "    N = random.randint(6,8)\n",
    "    res = \"\".join(secrets.choice(string.ascii_letters+string.digits+string.punctuation) for i in range(N))\n",
    "    X.append(res)\n",
    "print(X)"
   ]
  },
  {
   "cell_type": "code",
   "execution_count": 31,
   "id": "451d3ebd",
   "metadata": {
    "execution": {
     "iopub.execute_input": "2022-01-10T20:54:06.067756Z",
     "iopub.status.busy": "2022-01-10T20:54:06.066977Z",
     "iopub.status.idle": "2022-01-10T20:54:06.075881Z",
     "shell.execute_reply": "2022-01-10T20:54:06.075330Z",
     "shell.execute_reply.started": "2022-01-10T20:21:20.813857Z"
    },
    "papermill": {
     "duration": 0.071,
     "end_time": "2022-01-10T20:54:06.076069",
     "exception": false,
     "start_time": "2022-01-10T20:54:06.005069",
     "status": "completed"
    },
    "tags": []
   },
   "outputs": [
    {
     "name": "stdout",
     "output_type": "stream",
     "text": [
      "[601, 607, 613, 617, 619, 631, 641, 643, 647, 653, 659, 661, 673, 677, 683, 691, 701, 709, 719, 727, 733, 739, 743, 751, 757, 761, 769, 773, 787, 797]\n"
     ]
    }
   ],
   "source": [
    "# ii. WAP to print all prime numbers between 600 and 800.\n",
    "def is_prime(n):\n",
    "    if n == 1:\n",
    "        return False\n",
    "    i = 2\n",
    "    while i*i <= n :\n",
    "        if n%i == 0:\n",
    "            return False\n",
    "        i+= 1\n",
    "    return True\n",
    "prime_list = []\n",
    "for j in range(600,801):\n",
    "    if is_prime(j):\n",
    "        prime_list.append(j)\n",
    "print(prime_list)\n",
    "    "
   ]
  },
  {
   "cell_type": "code",
   "execution_count": 32,
   "id": "3ae7485d",
   "metadata": {
    "execution": {
     "iopub.execute_input": "2022-01-10T20:54:06.203865Z",
     "iopub.status.busy": "2022-01-10T20:54:06.202905Z",
     "iopub.status.idle": "2022-01-10T20:54:06.205965Z",
     "shell.execute_reply": "2022-01-10T20:54:06.206497Z",
     "shell.execute_reply.started": "2022-01-10T20:21:20.829583Z"
    },
    "papermill": {
     "duration": 0.069614,
     "end_time": "2022-01-10T20:54:06.206690",
     "exception": false,
     "start_time": "2022-01-10T20:54:06.137076",
     "status": "completed"
    },
    "tags": []
   },
   "outputs": [
    {
     "name": "stdout",
     "output_type": "stream",
     "text": [
      "[126, 189, 252, 315, 378, 441, 504, 567, 630, 693, 756, 819, 882, 945]\n"
     ]
    }
   ],
   "source": [
    "# iii. WAP to print all numbers between 100 and 1000 that are divisible by 7 and 9.\n",
    "num_list = []\n",
    "for i in range(100,1001):\n",
    "    if i%63==0:\n",
    "        num_list.append(i)\n",
    "print(num_list)"
   ]
  },
  {
   "cell_type": "markdown",
   "id": "69e3d129",
   "metadata": {
    "papermill": {
     "duration": 0.059609,
     "end_time": "2022-01-10T20:54:06.326239",
     "exception": false,
     "start_time": "2022-01-10T20:54:06.266630",
     "status": "completed"
    },
    "tags": []
   },
   "source": [
    "----------------------------------------------------------------------------------------\n",
    "----------------------------------------------------------------------------------------\n",
    "\n",
    "> Q5. WAP to create two lists of 10 random numbers between 10 and 30; Find\n",
    "\n",
    "i. Common numbers in the two lists\n",
    "\n",
    "ii. Unique numbers in both the list\n",
    "\n",
    "iii. Minimum in both the list\n",
    "\n",
    "iv. Maximum in both the list\n",
    "\n",
    "v. Sum of both the lists"
   ]
  },
  {
   "cell_type": "code",
   "execution_count": 33,
   "id": "bc77d5ec",
   "metadata": {
    "execution": {
     "iopub.execute_input": "2022-01-10T20:54:06.453534Z",
     "iopub.status.busy": "2022-01-10T20:54:06.452773Z",
     "iopub.status.idle": "2022-01-10T20:54:06.455739Z",
     "shell.execute_reply": "2022-01-10T20:54:06.456258Z",
     "shell.execute_reply.started": "2022-01-10T20:21:20.846000Z"
    },
    "papermill": {
     "duration": 0.070491,
     "end_time": "2022-01-10T20:54:06.456449",
     "exception": false,
     "start_time": "2022-01-10T20:54:06.385958",
     "status": "completed"
    },
    "tags": []
   },
   "outputs": [
    {
     "name": "stdout",
     "output_type": "stream",
     "text": [
      "[24, 30, 26, 19, 29, 12, 17, 21, 29, 26]\n",
      "[10, 14, 14, 11, 21, 28, 17, 18, 28, 15]\n"
     ]
    }
   ],
   "source": [
    "# Q5. WAP to create two lists of 10 random numbers between 10 and 30;\n",
    "import random\n",
    "r1 = [random.randint(10,30) for _ in range(10)]\n",
    "print(r1)\n",
    "r2 = [random.randint(10,30) for _ in range(10)]\n",
    "print(r2)\n"
   ]
  },
  {
   "cell_type": "code",
   "execution_count": 34,
   "id": "30e4c89c",
   "metadata": {
    "execution": {
     "iopub.execute_input": "2022-01-10T20:54:06.582952Z",
     "iopub.status.busy": "2022-01-10T20:54:06.582199Z",
     "iopub.status.idle": "2022-01-10T20:54:06.585891Z",
     "shell.execute_reply": "2022-01-10T20:54:06.585272Z",
     "shell.execute_reply.started": "2022-01-10T20:21:20.864451Z"
    },
    "papermill": {
     "duration": 0.068996,
     "end_time": "2022-01-10T20:54:06.586057",
     "exception": false,
     "start_time": "2022-01-10T20:54:06.517061",
     "status": "completed"
    },
    "tags": []
   },
   "outputs": [
    {
     "name": "stdout",
     "output_type": "stream",
     "text": [
      "{17, 21}\n"
     ]
    }
   ],
   "source": [
    "# i. Common numbers in the two lists\n",
    "a = set(r1)\n",
    "b = set(r2)\n",
    "c = a&b\n",
    "print(c)"
   ]
  },
  {
   "cell_type": "code",
   "execution_count": 35,
   "id": "d94fcf16",
   "metadata": {
    "execution": {
     "iopub.execute_input": "2022-01-10T20:54:06.713377Z",
     "iopub.status.busy": "2022-01-10T20:54:06.712649Z",
     "iopub.status.idle": "2022-01-10T20:54:06.716198Z",
     "shell.execute_reply": "2022-01-10T20:54:06.715562Z",
     "shell.execute_reply.started": "2022-01-10T20:21:20.880248Z"
    },
    "papermill": {
     "duration": 0.069899,
     "end_time": "2022-01-10T20:54:06.716345",
     "exception": false,
     "start_time": "2022-01-10T20:54:06.646446",
     "status": "completed"
    },
    "tags": []
   },
   "outputs": [
    {
     "name": "stdout",
     "output_type": "stream",
     "text": [
      "{12, 17, 19, 21, 24, 26, 29, 30}\n",
      "{10, 11, 14, 15, 17, 18, 21, 28}\n",
      "{12, 19, 24, 26, 29, 30}\n",
      "{10, 11, 14, 15, 18, 28}\n"
     ]
    }
   ],
   "source": [
    "# ii. Unique numbers in both the list\n",
    "a = set(r1)\n",
    "b = set(r2)\n",
    "print(a)\n",
    "print(b)\n",
    "print(a-(a&b))\n",
    "print(b-(b&a))"
   ]
  },
  {
   "cell_type": "code",
   "execution_count": 36,
   "id": "6c157b69",
   "metadata": {
    "execution": {
     "iopub.execute_input": "2022-01-10T20:54:06.843464Z",
     "iopub.status.busy": "2022-01-10T20:54:06.842766Z",
     "iopub.status.idle": "2022-01-10T20:54:06.846047Z",
     "shell.execute_reply": "2022-01-10T20:54:06.845534Z",
     "shell.execute_reply.started": "2022-01-10T20:21:20.895369Z"
    },
    "papermill": {
     "duration": 0.069136,
     "end_time": "2022-01-10T20:54:06.846199",
     "exception": false,
     "start_time": "2022-01-10T20:54:06.777063",
     "status": "completed"
    },
    "tags": []
   },
   "outputs": [
    {
     "name": "stdout",
     "output_type": "stream",
     "text": [
      "12\n",
      "10\n"
     ]
    }
   ],
   "source": [
    "# iii. Minimum in both the list\n",
    "min_r1 = min(r1)\n",
    "min_r2 = min(r2)\n",
    "print(min_r1)\n",
    "print(min_r2)"
   ]
  },
  {
   "cell_type": "code",
   "execution_count": 37,
   "id": "1a677e6e",
   "metadata": {
    "execution": {
     "iopub.execute_input": "2022-01-10T20:54:06.973772Z",
     "iopub.status.busy": "2022-01-10T20:54:06.973034Z",
     "iopub.status.idle": "2022-01-10T20:54:06.976801Z",
     "shell.execute_reply": "2022-01-10T20:54:06.976212Z",
     "shell.execute_reply.started": "2022-01-10T20:21:20.911424Z"
    },
    "papermill": {
     "duration": 0.069696,
     "end_time": "2022-01-10T20:54:06.976953",
     "exception": false,
     "start_time": "2022-01-10T20:54:06.907257",
     "status": "completed"
    },
    "tags": []
   },
   "outputs": [
    {
     "name": "stdout",
     "output_type": "stream",
     "text": [
      "30\n",
      "28\n"
     ]
    }
   ],
   "source": [
    "# iv. Maximum in both the list\n",
    "print(max(r1))\n",
    "print(max(r2))"
   ]
  },
  {
   "cell_type": "code",
   "execution_count": 38,
   "id": "16bad27a",
   "metadata": {
    "execution": {
     "iopub.execute_input": "2022-01-10T20:54:07.108555Z",
     "iopub.status.busy": "2022-01-10T20:54:07.107891Z",
     "iopub.status.idle": "2022-01-10T20:54:07.111513Z",
     "shell.execute_reply": "2022-01-10T20:54:07.110663Z",
     "shell.execute_reply.started": "2022-01-10T20:21:20.923049Z"
    },
    "papermill": {
     "duration": 0.073141,
     "end_time": "2022-01-10T20:54:07.111724",
     "exception": false,
     "start_time": "2022-01-10T20:54:07.038583",
     "status": "completed"
    },
    "tags": []
   },
   "outputs": [
    {
     "name": "stdout",
     "output_type": "stream",
     "text": [
      "233\n",
      "176\n"
     ]
    }
   ],
   "source": [
    "# v. Sum of both the lists\n",
    "print(sum(r1))\n",
    "print(sum(r2))"
   ]
  },
  {
   "cell_type": "markdown",
   "id": "8eb698bf",
   "metadata": {
    "papermill": {
     "duration": 0.061786,
     "end_time": "2022-01-10T20:54:07.237533",
     "exception": false,
     "start_time": "2022-01-10T20:54:07.175747",
     "status": "completed"
    },
    "tags": []
   },
   "source": [
    "----------------------------------------------------------------------------------------\n",
    "----------------------------------------------------------------------------------------\n",
    "\n",
    "> Q6. WAP to create a list of 100 random numbers between 100 and 900. Count and print the:\n",
    "\n",
    "i. All odd numbers\n",
    "\n",
    "ii. All even numbers\n",
    "\n",
    "iii. All prime numbers"
   ]
  },
  {
   "cell_type": "code",
   "execution_count": 39,
   "id": "c9898c6a",
   "metadata": {
    "execution": {
     "iopub.execute_input": "2022-01-10T20:54:07.368822Z",
     "iopub.status.busy": "2022-01-10T20:54:07.368062Z",
     "iopub.status.idle": "2022-01-10T20:54:07.370908Z",
     "shell.execute_reply": "2022-01-10T20:54:07.371433Z",
     "shell.execute_reply.started": "2022-01-10T20:21:20.939150Z"
    },
    "papermill": {
     "duration": 0.072159,
     "end_time": "2022-01-10T20:54:07.371624",
     "exception": false,
     "start_time": "2022-01-10T20:54:07.299465",
     "status": "completed"
    },
    "tags": []
   },
   "outputs": [
    {
     "name": "stdout",
     "output_type": "stream",
     "text": [
      "[352, 193, 281, 287, 564, 156, 853, 226, 755, 536, 535, 418, 168, 526, 636, 666, 369, 349, 490, 656, 581, 490, 111, 870, 319, 642, 205, 858, 137, 395, 359, 489, 274, 730, 446, 567, 288, 199, 312, 235, 171, 152, 803, 708, 885, 830, 878, 703, 778, 464, 677, 652, 754, 586, 330, 682, 423, 387, 499, 137, 266, 894, 531, 156, 271, 424, 590, 235, 515, 724, 644, 509, 772, 800, 717, 775, 177, 793, 731, 534, 615, 314, 567, 877, 291, 773, 625, 195, 301, 438, 744, 532, 383, 520, 777, 307, 196, 256, 824, 495]\n"
     ]
    }
   ],
   "source": [
    "# Q6. WAP to create a list of 100 random numbers between 100 and 900. Count and print the:\n",
    "import random\n",
    "\n",
    "r = [random.randint(100,900) for _ in range(100)]\n",
    "print(r)"
   ]
  },
  {
   "cell_type": "code",
   "execution_count": 40,
   "id": "7f933583",
   "metadata": {
    "execution": {
     "iopub.execute_input": "2022-01-10T20:54:07.502283Z",
     "iopub.status.busy": "2022-01-10T20:54:07.501525Z",
     "iopub.status.idle": "2022-01-10T20:54:07.505230Z",
     "shell.execute_reply": "2022-01-10T20:54:07.504571Z",
     "shell.execute_reply.started": "2022-01-10T20:21:20.952511Z"
    },
    "papermill": {
     "duration": 0.071554,
     "end_time": "2022-01-10T20:54:07.505389",
     "exception": false,
     "start_time": "2022-01-10T20:54:07.433835",
     "status": "completed"
    },
    "tags": []
   },
   "outputs": [
    {
     "name": "stdout",
     "output_type": "stream",
     "text": [
      "[193, 281, 287, 853, 755, 535, 369, 349, 581, 111, 319, 205, 137, 395, 359, 489, 567, 199, 235, 171, 803, 885, 703, 677, 423, 387, 499, 137, 531, 271, 235, 515, 509, 717, 775, 177, 793, 731, 615, 567, 877, 291, 773, 625, 195, 301, 383, 777, 307, 495]\n",
      "50\n"
     ]
    }
   ],
   "source": [
    "# i. All odd numbers\n",
    "r_odd = [x for x in r if x%2!=0]\n",
    "print(r_odd)\n",
    "print(len(r_odd))"
   ]
  },
  {
   "cell_type": "code",
   "execution_count": 41,
   "id": "64bc1261",
   "metadata": {
    "execution": {
     "iopub.execute_input": "2022-01-10T20:54:07.637519Z",
     "iopub.status.busy": "2022-01-10T20:54:07.636833Z",
     "iopub.status.idle": "2022-01-10T20:54:07.640686Z",
     "shell.execute_reply": "2022-01-10T20:54:07.640049Z",
     "shell.execute_reply.started": "2022-01-10T20:21:20.966355Z"
    },
    "papermill": {
     "duration": 0.072768,
     "end_time": "2022-01-10T20:54:07.640839",
     "exception": false,
     "start_time": "2022-01-10T20:54:07.568071",
     "status": "completed"
    },
    "tags": []
   },
   "outputs": [
    {
     "name": "stdout",
     "output_type": "stream",
     "text": [
      "[352, 564, 156, 226, 536, 418, 168, 526, 636, 666, 490, 656, 490, 870, 642, 858, 274, 730, 446, 288, 312, 152, 708, 830, 878, 778, 464, 652, 754, 586, 330, 682, 266, 894, 156, 424, 590, 724, 644, 772, 800, 534, 314, 438, 744, 532, 520, 196, 256, 824]\n",
      "50\n"
     ]
    }
   ],
   "source": [
    "# ii. All even numbers\n",
    "r_even = [x for x in r if x%2 == 0]\n",
    "print(r_even)\n",
    "print(len(r_even))"
   ]
  },
  {
   "cell_type": "code",
   "execution_count": 42,
   "id": "ef770907",
   "metadata": {
    "execution": {
     "iopub.execute_input": "2022-01-10T20:54:07.771395Z",
     "iopub.status.busy": "2022-01-10T20:54:07.770650Z",
     "iopub.status.idle": "2022-01-10T20:54:07.776682Z",
     "shell.execute_reply": "2022-01-10T20:54:07.776041Z",
     "shell.execute_reply.started": "2022-01-10T20:21:20.982740Z"
    },
    "papermill": {
     "duration": 0.07272,
     "end_time": "2022-01-10T20:54:07.776833",
     "exception": false,
     "start_time": "2022-01-10T20:54:07.704113",
     "status": "completed"
    },
    "tags": []
   },
   "outputs": [
    {
     "name": "stdout",
     "output_type": "stream",
     "text": [
      "[193, 281, 853, 349, 137, 359, 199, 677, 499, 137, 271, 509, 877, 773, 383, 307]\n",
      "16\n"
     ]
    }
   ],
   "source": [
    "# iii. All prime numbers\n",
    "r_prime = [ x for x in r if is_prime(x)]\n",
    "print(r_prime)\n",
    "print(len(r_prime))"
   ]
  },
  {
   "cell_type": "markdown",
   "id": "f2ace8d8",
   "metadata": {
    "papermill": {
     "duration": 0.068849,
     "end_time": "2022-01-10T20:54:07.909114",
     "exception": false,
     "start_time": "2022-01-10T20:54:07.840265",
     "status": "completed"
    },
    "tags": []
   },
   "source": [
    "\n",
    "----------------------------------------------------------------------------------------\n",
    "----------------------------------------------------------------------------------------\n",
    "> Q7. D is a dictionary defined as D={1:\"One\",2:\"Two\",3:\"Three\",4:\"Four\", 5:\"Five\"}.\n",
    "\n",
    "WAP to read all the keys and values from dictionary and write to the file in the given below\n",
    "format.\n",
    "\n",
    "|keys|values|\n",
    "|----|-------|\n",
    "|Key1| Value1|\n",
    "|Key2| Value2|\n",
    "|Key3| Value3|"
   ]
  },
  {
   "cell_type": "code",
   "execution_count": 43,
   "id": "2cc6f831",
   "metadata": {
    "execution": {
     "iopub.execute_input": "2022-01-10T20:54:08.073600Z",
     "iopub.status.busy": "2022-01-10T20:54:08.072830Z",
     "iopub.status.idle": "2022-01-10T20:54:08.076321Z",
     "shell.execute_reply": "2022-01-10T20:54:08.075662Z",
     "shell.execute_reply.started": "2022-01-10T20:21:20.997522Z"
    },
    "papermill": {
     "duration": 0.088109,
     "end_time": "2022-01-10T20:54:08.076476",
     "exception": false,
     "start_time": "2022-01-10T20:54:07.988367",
     "status": "completed"
    },
    "tags": []
   },
   "outputs": [
    {
     "name": "stdout",
     "output_type": "stream",
     "text": [
      "{1: 'One', 2: 'Two', 3: 'Three', 4: 'Four', 5: 'Five'}\n"
     ]
    }
   ],
   "source": [
    "# Q7. D is a dictionary defined as D={1:\"One\",2:\"Two\",3:\"Three\",4:\"Four\", 5:\"Five\"}.\n",
    "D = {1:\"One\",2:\"Two\",3:\"Three\",4:\"Four\", 5:\"Five\"}\n",
    "print(D)"
   ]
  },
  {
   "cell_type": "code",
   "execution_count": 44,
   "id": "53245293",
   "metadata": {
    "execution": {
     "iopub.execute_input": "2022-01-10T20:54:08.215605Z",
     "iopub.status.busy": "2022-01-10T20:54:08.212686Z",
     "iopub.status.idle": "2022-01-10T20:54:08.219505Z",
     "shell.execute_reply": "2022-01-10T20:54:08.218792Z",
     "shell.execute_reply.started": "2022-01-10T20:21:21.013211Z"
    },
    "papermill": {
     "duration": 0.079536,
     "end_time": "2022-01-10T20:54:08.219678",
     "exception": false,
     "start_time": "2022-01-10T20:54:08.140142",
     "status": "completed"
    },
    "tags": []
   },
   "outputs": [
    {
     "name": "stdout",
     "output_type": "stream",
     "text": [
      "Keys       Values     \n",
      "1          One        \n",
      "2          Two        \n",
      "3          Three      \n",
      "4          Four       \n",
      "5          Five       \n"
     ]
    }
   ],
   "source": [
    "# WAP to read all the keys and values from dictionary and write to the file in the given below format.\n",
    "print(\"{:<10} {:<10} \".format(\"Keys\",\"Values\"))\n",
    "for key,value in D.items():\n",
    "    print(\"{:<10} {:<10} \".format(key,value))"
   ]
  },
  {
   "cell_type": "markdown",
   "id": "1d750b3d",
   "metadata": {
    "papermill": {
     "duration": 0.063908,
     "end_time": "2022-01-10T20:54:08.348031",
     "exception": false,
     "start_time": "2022-01-10T20:54:08.284123",
     "status": "completed"
    },
    "tags": []
   },
   "source": [
    "\n",
    "----------------------------------------------------------------------------------------\n",
    "----------------------------------------------------------------------------------------\n",
    "\n",
    "> Q8. L is a list defined as L={\"One\",\"Two\",\"Three\",\"Four\",\"Five\"}.\n",
    "\n",
    "WAP to count the length of reach element from a list and write to the file in the given below\n",
    "format:\n",
    "\n",
    "|keys|values|\n",
    "|----|-------|\n",
    "|One| 3|\n",
    "|Two| 3|\n",
    "|Four| 4|"
   ]
  },
  {
   "cell_type": "code",
   "execution_count": 45,
   "id": "2ffe430a",
   "metadata": {
    "execution": {
     "iopub.execute_input": "2022-01-10T20:54:08.482408Z",
     "iopub.status.busy": "2022-01-10T20:54:08.481696Z",
     "iopub.status.idle": "2022-01-10T20:54:08.485799Z",
     "shell.execute_reply": "2022-01-10T20:54:08.485034Z",
     "shell.execute_reply.started": "2022-01-10T20:21:21.028377Z"
    },
    "papermill": {
     "duration": 0.07394,
     "end_time": "2022-01-10T20:54:08.486023",
     "exception": false,
     "start_time": "2022-01-10T20:54:08.412083",
     "status": "completed"
    },
    "tags": []
   },
   "outputs": [
    {
     "name": "stdout",
     "output_type": "stream",
     "text": [
      "['One', 'Two', 'Three', 'Four', 'Five']\n"
     ]
    }
   ],
   "source": [
    "# Q8. L is a list defined as L={\"One\",\"Two\",\"Three\",\"Four\",\"Five\"}.\n",
    "L = [\"One\",\"Two\",\"Three\",\"Four\",\"Five\"]\n",
    "print(L)"
   ]
  },
  {
   "cell_type": "code",
   "execution_count": 46,
   "id": "1467506d",
   "metadata": {
    "execution": {
     "iopub.execute_input": "2022-01-10T20:54:08.622712Z",
     "iopub.status.busy": "2022-01-10T20:54:08.622038Z",
     "iopub.status.idle": "2022-01-10T20:54:08.624789Z",
     "shell.execute_reply": "2022-01-10T20:54:08.625305Z",
     "shell.execute_reply.started": "2022-01-10T20:21:21.041829Z"
    },
    "papermill": {
     "duration": 0.074014,
     "end_time": "2022-01-10T20:54:08.625487",
     "exception": false,
     "start_time": "2022-01-10T20:54:08.551473",
     "status": "completed"
    },
    "tags": []
   },
   "outputs": [
    {
     "name": "stdout",
     "output_type": "stream",
     "text": [
      "Element    Size       \n",
      "One        3          \n",
      "Two        3          \n",
      "Three      5          \n",
      "Four       4          \n",
      "Five       4          \n"
     ]
    }
   ],
   "source": [
    "# WAP to count the length of reach element from a list and write to the file in the given below format:\n",
    "# |keys|values|\n",
    "# |----|-------|\n",
    "# |One |      3|\n",
    "# |Two |      3|\n",
    "# |Four|      4|\n",
    "\n",
    "D = {}\n",
    "for i in L:\n",
    "    D[i] = len(i)\n",
    "print(\"{:<10} {:<10} \".format(\"Element\",\"Size\"))\n",
    "for key,value in D.items():\n",
    "    print(\"{:<10} {:<10} \".format(key,value))\n"
   ]
  },
  {
   "cell_type": "markdown",
   "id": "73464380",
   "metadata": {
    "papermill": {
     "duration": 0.065855,
     "end_time": "2022-01-10T20:54:08.756307",
     "exception": false,
     "start_time": "2022-01-10T20:54:08.690452",
     "status": "completed"
    },
    "tags": []
   },
   "source": [
    "\n",
    "----------------------------------------------------------------------------------------\n",
    "----------------------------------------------------------------------------------------\n",
    "\n",
    "> Q9. Write to the file 100 random strings whose length between 10 and 15."
   ]
  },
  {
   "cell_type": "code",
   "execution_count": 47,
   "id": "899a1ff9",
   "metadata": {
    "execution": {
     "iopub.execute_input": "2022-01-10T20:54:08.893629Z",
     "iopub.status.busy": "2022-01-10T20:54:08.892792Z",
     "iopub.status.idle": "2022-01-10T20:54:08.906350Z",
     "shell.execute_reply": "2022-01-10T20:54:08.905301Z",
     "shell.execute_reply.started": "2022-01-10T20:21:21.060661Z"
    },
    "papermill": {
     "duration": 0.086005,
     "end_time": "2022-01-10T20:54:08.906628",
     "exception": false,
     "start_time": "2022-01-10T20:54:08.820623",
     "status": "completed"
    },
    "tags": []
   },
   "outputs": [
    {
     "name": "stdout",
     "output_type": "stream",
     "text": [
      "[\"iE$kUv'&OR\", \"UQ]gx+k'D.XQv*\", 'ADPt%8$hSWUB|', '\\\\Me(%(;4>*V', '}s/iQx&A1yVT\"6^', '>iPv?T.dNa', '`~;ar9wux|J|n\\\\', '|DV=w_V)Os@Uwlv', 'R.Gl@kxkz[', '}$8ZnZ:s\"[rtF@Q', 'hpWP\\\\,iEqtOB', \"0z~3'<!Q4075\", '%^1HwWWWyQAt', 'xG.]YtwjM3!(-IM', 'l:6{&dQA\\\\4;T06', '!HYfYqP@bjg', 'XAcxVPYBc5q', 'e-Ggq^-`,d', \"wn'#@IPXNOr-Mz\", ':6gut^pSR$!D[HY', '\"\\\\DTF|z!z:qr^n#', '^4(dPe|LGM@g6v', 'bb0m`YI2*7nM', \":Zm\\\\BKQ@t'O|NH\", '3~I.P?%-IY', 'P@l8#e)1vUV', 'qcnb!J($?9#MWEz', '1ytWx{$&?6#@a', 'aO_D/H[&2|INk8,', 'd_N:^Gkf#Xi', '_Cn7y-;.yj', 'UkdeEqpg|r&HvM', '$ZHhceW_C{p9Iz', '+$>Zm\"T$4W', ';DSS-4{N:4s', '$B3yDgU?q;vDD', 'kaAA_Q[#?SR', '$u!(]m&FV\\\\0t.', 'EYIiB}~=oV', 't!p[RM/[GPQM{n', '\\\\>>P8J_\"7^FQG', 'Q;~E`4<q3W,x71', 'JrkJuI?[?}bqF', 'u+}Xg_Jh{KYR~a!', '7Q#{&:Ekt\\\\T.', '03-g|Thw@fs', 'Z!^N8^~0@W', '1`X<Rxn.V%`En', \"'\\\\fdazoEQ;!P\", \"+`p/ijTW'+<\", '7jMYp#zp7NBDWkv', '*`599%1VBzYR', 'CFl`[qf*WuXB/', 'S)-B{v.Nz.*ZSWG', 'Q/^fY^^5vX4$%', ';9W@\\\\xy+M_Xhj1', \"E8AN78dW+z'?Y\", '{^4,4c[,wn)~@w?', 'f.9h\"*xSsCE+X2?', 'W!7yl&cbl~m|-h', 'YkahP7a6*}Rjdt', 'W\"\\'|b0:R=yO^', '<=a#762?#9M', '6f-TW&g^T&oNv', 'EnO4^iYGDO2', 'z6TJ8a\"9[67I$hz', 'sdVZWheh#8', '/E7qO_Y4>Y~', 'NlieA_mp%c\"=~%', \"'tK%qP&l`94\", ']9FVFi{_$|!', '=J$q*|?&{GYTR', '{XS8ZQpvWR1?|', 'QVA$Z%E^ES', \"1}h'Fdcf5G)dg\", '*{7<S0J-.z&J', 'w::hq-NJH\\\\_q$g', 'q@nW[B|Ilw:}U', 'Gx>F]$X?r5:i;', '2aRGPqyDAWb4y', 'Sd[sPl+mV)^i0', 'N)aF<j[X30E%.', 'Y,F?;lX`yMI', '%MHJ}1G3+5k', '2$J%^nxJsXi{B', '`i3p9H^:D?<1o43', '+,a/_$hZMjUK`', '~|J^DBufj,3', '8;#hI=Z-,+', '$DVBM=/K7X', 'DAlfgbz/t>OU', 'H-ce:ub=tz', '];Xomqas<YNnN', 'aL8Yepu?P?65', 'v/Xdvcu9I<X2)', \"'rhI*rXWo%_Q~8@\", '*eBRBF?6-j', \"'xb*G[tn_fNHxg\", '#B9*>-M)h*@i#', '}S@v!x2W<M']\n"
     ]
    }
   ],
   "source": [
    "# Q9. Write to the file 100 random strings whose length between 10 and 15.\n",
    "import string\n",
    "import secrets\n",
    "import random\n",
    "\n",
    "X = []\n",
    "for i in range(100):\n",
    "    N = random.randint(10,15)\n",
    "    res = \"\".join(secrets.choice(string.ascii_letters+string.digits+string.punctuation) for i in range(N))\n",
    "    X.append(res)\n",
    "print(X)"
   ]
  },
  {
   "cell_type": "markdown",
   "id": "ca5ec279",
   "metadata": {
    "papermill": {
     "duration": 0.065136,
     "end_time": "2022-01-10T20:54:09.038682",
     "exception": false,
     "start_time": "2022-01-10T20:54:08.973546",
     "status": "completed"
    },
    "tags": []
   },
   "source": [
    "\n",
    "----------------------------------------------------------------------------------------\n",
    "----------------------------------------------------------------------------------------\n",
    "\n",
    "> Q10. Write to the file all prime numbers between 600 and 800."
   ]
  },
  {
   "cell_type": "code",
   "execution_count": 48,
   "id": "17aac55b",
   "metadata": {
    "execution": {
     "iopub.execute_input": "2022-01-10T20:54:09.179873Z",
     "iopub.status.busy": "2022-01-10T20:54:09.179163Z",
     "iopub.status.idle": "2022-01-10T20:54:09.182384Z",
     "shell.execute_reply": "2022-01-10T20:54:09.183116Z",
     "shell.execute_reply.started": "2022-01-10T20:21:21.088193Z"
    },
    "papermill": {
     "duration": 0.077272,
     "end_time": "2022-01-10T20:54:09.183370",
     "exception": false,
     "start_time": "2022-01-10T20:54:09.106098",
     "status": "completed"
    },
    "tags": []
   },
   "outputs": [
    {
     "name": "stdout",
     "output_type": "stream",
     "text": [
      "[601, 607, 613, 617, 619, 631, 641, 643, 647, 653, 659, 661, 673, 677, 683, 691, 701, 709, 719, 727, 733, 739, 743, 751, 757, 761, 769, 773, 787, 797]\n"
     ]
    }
   ],
   "source": [
    "# Q10. Write to the file all prime numbers between 600 and 800.\n",
    "def is_prime(n):\n",
    "    if n == 1:\n",
    "        return False\n",
    "    i = 2\n",
    "    while i*i <= n :\n",
    "        if n%i == 0:\n",
    "            return False\n",
    "        i+= 1\n",
    "    return True\n",
    "prime_list = []\n",
    "for j in range(600,801):\n",
    "    if is_prime(j):\n",
    "        prime_list.append(j)\n",
    "print(prime_list)"
   ]
  },
  {
   "cell_type": "markdown",
   "id": "81ad7bfb",
   "metadata": {
    "papermill": {
     "duration": 0.064466,
     "end_time": "2022-01-10T20:54:09.314477",
     "exception": false,
     "start_time": "2022-01-10T20:54:09.250011",
     "status": "completed"
    },
    "tags": []
   },
   "source": [
    "\n",
    "----------------------------------------------------------------------------------------\n",
    "----------------------------------------------------------------------------------------\n",
    "\n",
    "> Q11. WAP to calculate the time taken by a program.\n"
   ]
  },
  {
   "cell_type": "code",
   "execution_count": 49,
   "id": "e670a269",
   "metadata": {
    "execution": {
     "iopub.execute_input": "2022-01-10T20:54:09.464486Z",
     "iopub.status.busy": "2022-01-10T20:54:09.463745Z",
     "iopub.status.idle": "2022-01-10T20:54:09.466546Z",
     "shell.execute_reply": "2022-01-10T20:54:09.467058Z",
     "shell.execute_reply.started": "2022-01-10T20:21:21.102172Z"
    },
    "papermill": {
     "duration": 0.085939,
     "end_time": "2022-01-10T20:54:09.467253",
     "exception": false,
     "start_time": "2022-01-10T20:54:09.381314",
     "status": "completed"
    },
    "tags": []
   },
   "outputs": [
    {
     "name": "stdout",
     "output_type": "stream",
     "text": [
      "0.010723628000050667\n"
     ]
    }
   ],
   "source": [
    "# Q11. WAP to calculate the time taken by a program.\n",
    "import timeit\n",
    "\n",
    "mysetup = \"from math import sqrt\"\n",
    " \n",
    "mycode = '''\n",
    "def example(): \n",
    "    mylist = [] \n",
    "    for x in range(100): \n",
    "        mylist.append(sqrt(x))\n",
    "'''\n",
    "print(timeit.timeit(setup = mysetup,\n",
    "                  stmt = mycode,\n",
    "                  number = 100000)) "
   ]
  },
  {
   "cell_type": "code",
   "execution_count": 50,
   "id": "753932d5",
   "metadata": {
    "execution": {
     "iopub.execute_input": "2022-01-10T20:54:09.602126Z",
     "iopub.status.busy": "2022-01-10T20:54:09.601452Z",
     "iopub.status.idle": "2022-01-10T20:54:10.611442Z",
     "shell.execute_reply": "2022-01-10T20:54:10.610791Z",
     "shell.execute_reply.started": "2022-01-10T20:21:21.130456Z"
    },
    "papermill": {
     "duration": 1.078008,
     "end_time": "2022-01-10T20:54:10.611592",
     "exception": false,
     "start_time": "2022-01-10T20:54:09.533584",
     "status": "completed"
    },
    "tags": []
   },
   "outputs": [
    {
     "name": "stdout",
     "output_type": "stream",
     "text": [
      "Lab Assignment\n",
      "Lab Assignment\n",
      "Lab Assignment\n",
      "Lab Assignment\n",
      "Lab Assignment\n",
      "Total runtime of the program is 1.002129077911377\n"
     ]
    }
   ],
   "source": [
    "# approach 2 using time module\n",
    "\n",
    "import time\n",
    "begin = time.time()\n",
    "for i in range(5):\n",
    "    print(\"Lab Assignment\")\n",
    "    \n",
    "time.sleep(1)\n",
    "end = time.time()\n",
    "\n",
    "print(\"Total runtime of the program is\", end-begin)"
   ]
  },
  {
   "cell_type": "markdown",
   "id": "944bfb23",
   "metadata": {
    "papermill": {
     "duration": 0.066125,
     "end_time": "2022-01-10T20:54:10.744569",
     "exception": false,
     "start_time": "2022-01-10T20:54:10.678444",
     "status": "completed"
    },
    "tags": []
   },
   "source": [
    "\n",
    "----------------------------------------------------------------------------------------\n",
    "----------------------------------------------------------------------------------------\n",
    "\n",
    "> Q12. WAP to create a dictionary of student marks in five subjects and you have to find the\n",
    "student having maximum and minimum average marks.\n"
   ]
  },
  {
   "cell_type": "code",
   "execution_count": 51,
   "id": "3e321723",
   "metadata": {
    "execution": {
     "iopub.execute_input": "2022-01-10T20:54:10.887379Z",
     "iopub.status.busy": "2022-01-10T20:54:10.880082Z",
     "iopub.status.idle": "2022-01-10T20:54:10.890909Z",
     "shell.execute_reply": "2022-01-10T20:54:10.890215Z",
     "shell.execute_reply.started": "2022-01-10T20:37:29.954517Z"
    },
    "papermill": {
     "duration": 0.080607,
     "end_time": "2022-01-10T20:54:10.891219",
     "exception": false,
     "start_time": "2022-01-10T20:54:10.810612",
     "status": "completed"
    },
    "tags": []
   },
   "outputs": [
    {
     "name": "stdout",
     "output_type": "stream",
     "text": [
      "Roll       Phy        Math       Che        Eng        Hin       \n",
      "5540       87         88         78         68         87        \n",
      "5538       98         78         67         55         99        \n",
      "5537       66         89         99         87         76        \n",
      "5536       67         78         89         98         87        \n",
      "5535       89         88         76         66         87        \n"
     ]
    }
   ],
   "source": [
    "# Q12. WAP to create a dictionary of student marks in five subjects and you have to find the student having maximum and minimum average marks.\n",
    "# n = int(input(\"Enter n : \"))\n",
    "# d = {}\n",
    "# for i in range(n):\n",
    "#     roll = int(input(\"Enter roll no: \"))\n",
    "#     name = input(\"Entern name: \")\n",
    "#     marks1 = int(input(\"Enter marks1: \"))\n",
    "#     marks2 = int(input(\"Enter marks2: \"))\n",
    "#     marks3 = int(input(\"Enter marks3: \"))\n",
    "#     marks4 = int(input(\"Enter marks4: \"))\n",
    "#     marks5 = int(input(\"Enter marks5: \"))\n",
    "#     d[roll] = [name,marks1,marks2,marks3, marks4,marks5]\n",
    "d = {}\n",
    "d[5540] = [87,88, 78, 68,87]\n",
    "d[5538] = [98,78,67,55,99]\n",
    "d[5537] = [66,89,99,87,76]\n",
    "d[5536] = [67,78,89,98,87]\n",
    "d[5535] = [89,88,76,66,87]\n",
    "print(\"{:<10} {:<10} {:<10} {:<10} {:<10} {:<10}\".format(\"Roll\", \"Phy\", \"Math\", \"Che\", \"Eng\", \"Hin\"))\n",
    "for key,value in d.items():\n",
    "    phy,math,che,eng,hin = value\n",
    "    print(\"{:<10} {:<10} {:<10} {:<10} {:<10} {:<10}\".format(key,phy,math,che,eng,hin))"
   ]
  },
  {
   "cell_type": "code",
   "execution_count": 52,
   "id": "e0d2a9ee",
   "metadata": {
    "execution": {
     "iopub.execute_input": "2022-01-10T20:54:11.034744Z",
     "iopub.status.busy": "2022-01-10T20:54:11.033959Z",
     "iopub.status.idle": "2022-01-10T20:54:11.037857Z",
     "shell.execute_reply": "2022-01-10T20:54:11.037229Z",
     "shell.execute_reply.started": "2022-01-10T20:37:37.353950Z"
    },
    "papermill": {
     "duration": 0.078898,
     "end_time": "2022-01-10T20:54:11.038026",
     "exception": false,
     "start_time": "2022-01-10T20:54:10.959128",
     "status": "completed"
    },
    "tags": []
   },
   "outputs": [
    {
     "name": "stdout",
     "output_type": "stream",
     "text": [
      "Roll       Phy        Math       Che        Eng        Hin        Avg       \n",
      "5540       87         88         78         68         87         81.6      \n",
      "5538       98         78         67         55         99         79.4      \n",
      "5537       66         89         99         87         76         83.4      \n",
      "5536       67         78         89         98         87         83.8      \n",
      "5535       89         88         76         66         87         81.2      \n"
     ]
    }
   ],
   "source": [
    "for i in d:\n",
    "    d[i].append(sum(d[i])/5)\n",
    "print(\"{:<10} {:<10} {:<10} {:<10} {:<10} {:<10} {:<10}\".format(\"Roll\", \"Phy\", \"Math\", \"Che\", \"Eng\", \"Hin\", \"Avg\"))\n",
    "for key,value in d.items():\n",
    "    phy,math,che,eng,hin,avg = value\n",
    "    print(\"{:<10} {:<10} {:<10} {:<10} {:<10} {:<10} {:<10}\".format(key,phy,math,che,eng,hin,avg))"
   ]
  },
  {
   "cell_type": "code",
   "execution_count": 53,
   "id": "dfcdf0e5",
   "metadata": {
    "execution": {
     "iopub.execute_input": "2022-01-10T20:54:11.178498Z",
     "iopub.status.busy": "2022-01-10T20:54:11.175949Z",
     "iopub.status.idle": "2022-01-10T20:54:11.182771Z",
     "shell.execute_reply": "2022-01-10T20:54:11.182178Z",
     "shell.execute_reply.started": "2022-01-10T20:41:42.385740Z"
    },
    "papermill": {
     "duration": 0.076829,
     "end_time": "2022-01-10T20:54:11.182927",
     "exception": false,
     "start_time": "2022-01-10T20:54:11.106098",
     "status": "completed"
    },
    "tags": []
   },
   "outputs": [
    {
     "name": "stdout",
     "output_type": "stream",
     "text": [
      "{5540: 81.6, 5538: 79.4, 5537: 83.4, 5536: 83.8, 5535: 81.2}\n"
     ]
    }
   ],
   "source": [
    "avg_dict = {}\n",
    "for i in d:\n",
    "    avg_dict[i] = d[i][-1]\n",
    "print(avg_dict)\n"
   ]
  },
  {
   "cell_type": "code",
   "execution_count": 54,
   "id": "de89fa50",
   "metadata": {
    "execution": {
     "iopub.execute_input": "2022-01-10T20:54:11.348939Z",
     "iopub.status.busy": "2022-01-10T20:54:11.348215Z",
     "iopub.status.idle": "2022-01-10T20:54:11.352103Z",
     "shell.execute_reply": "2022-01-10T20:54:11.351436Z",
     "shell.execute_reply.started": "2022-01-10T20:41:49.636727Z"
    },
    "papermill": {
     "duration": 0.087827,
     "end_time": "2022-01-10T20:54:11.352286",
     "exception": false,
     "start_time": "2022-01-10T20:54:11.264459",
     "status": "completed"
    },
    "tags": []
   },
   "outputs": [
    {
     "name": "stdout",
     "output_type": "stream",
     "text": [
      "5536\n",
      "5538\n"
     ]
    }
   ],
   "source": [
    "max_key = max(avg_dict, key=avg_dict.get)\n",
    "print(max_key)\n",
    "min_key = min(avg_dict, key=avg_dict.get)\n",
    "print(min_key)\n"
   ]
  },
  {
   "cell_type": "markdown",
   "id": "2c05ca41",
   "metadata": {
    "papermill": {
     "duration": 0.066938,
     "end_time": "2022-01-10T20:54:11.486662",
     "exception": false,
     "start_time": "2022-01-10T20:54:11.419724",
     "status": "completed"
    },
    "tags": []
   },
   "source": [
    "\n",
    "\n",
    "----------------------------------------------------------------------------------------\n",
    "----------------------------------------------------------------------------------------\n",
    "\n",
    "> Q13. WAP to sort the following number of elements in a list and calculate time taken.\n",
    "\n",
    "|Number of elements in list| Time Taken to sort|\n",
    "|--------------------------|-------------------|\n",
    "|5k |T1|\n",
    "|10k|T2|\n",
    "|15k|T3|\n",
    "|20k|T4|\n",
    "|25k|T5|"
   ]
  },
  {
   "cell_type": "code",
   "execution_count": 55,
   "id": "eaad0325",
   "metadata": {
    "execution": {
     "iopub.execute_input": "2022-01-10T20:54:11.635614Z",
     "iopub.status.busy": "2022-01-10T20:54:11.630268Z",
     "iopub.status.idle": "2022-01-10T20:54:12.145661Z",
     "shell.execute_reply": "2022-01-10T20:54:12.144282Z",
     "shell.execute_reply.started": "2022-01-10T20:53:15.315794Z"
    },
    "papermill": {
     "duration": 0.591653,
     "end_time": "2022-01-10T20:54:12.145837",
     "exception": false,
     "start_time": "2022-01-10T20:54:11.554184",
     "status": "completed"
    },
    "tags": []
   },
   "outputs": [
    {
     "name": "stdout",
     "output_type": "stream",
     "text": [
      "Number of elements(*1000)      Time to sort                  \n",
      "5                              0.10289926700011165           \n",
      "10                             0.1017967210000279            \n",
      "15                             0.099579692999896             \n",
      "20                             0.10218621699982577           \n",
      "25                             0.10214550999990024           \n"
     ]
    }
   ],
   "source": [
    "# Q13. WAP to sort the following number of elements in a list and calculate time taken.\n",
    "\n",
    "import timeit\n",
    "import random\n",
    "d = {}\n",
    "for i in range(1,6):\n",
    "    mysetup = \"import random\"\n",
    "\n",
    "    mycode = '''def x(): \n",
    "                    mylist = [random.randint(0,1000) for _ in range(i*5000)] \n",
    "                    mylist.sort()\n",
    "            '''\n",
    "    time = timeit.timeit(setup = mysetup,stmt = mycode,number = 1000000)\n",
    "    d[i*5] = time\n",
    "print(\"{:<30} {:<30}\".format(\"Number of elements(*1000)\", \"Time to sort\"))\n",
    "for key,value in d.items():\n",
    "    print(\"{:<30} {:<30}\".format(key,value))"
   ]
  },
  {
   "cell_type": "markdown",
   "id": "dce9535e",
   "metadata": {
    "papermill": {
     "duration": 0.067697,
     "end_time": "2022-01-10T20:54:12.284342",
     "exception": false,
     "start_time": "2022-01-10T20:54:12.216645",
     "status": "completed"
    },
    "tags": []
   },
   "source": [
    "\n",
    "\n",
    "----------------------------------------------------------------------------------------\n",
    "----------------------------------------------------------------------------------------\n"
   ]
  }
 ],
 "metadata": {
  "kernelspec": {
   "display_name": "Python 3",
   "language": "python",
   "name": "python3"
  },
  "language_info": {
   "codemirror_mode": {
    "name": "ipython",
    "version": 3
   },
   "file_extension": ".py",
   "mimetype": "text/x-python",
   "name": "python",
   "nbconvert_exporter": "python",
   "pygments_lexer": "ipython3",
   "version": "3.7.12"
  },
  "papermill": {
   "default_parameters": {},
   "duration": 21.986685,
   "end_time": "2022-01-10T20:54:13.265261",
   "environment_variables": {},
   "exception": null,
   "input_path": "__notebook__.ipynb",
   "output_path": "__notebook__.ipynb",
   "parameters": {},
   "start_time": "2022-01-10T20:53:51.278576",
   "version": "2.3.3"
  }
 },
 "nbformat": 4,
 "nbformat_minor": 5
}
