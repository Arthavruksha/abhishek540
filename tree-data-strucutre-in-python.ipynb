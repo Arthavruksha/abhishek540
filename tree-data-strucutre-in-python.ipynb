{
 "cells": [
  {
   "cell_type": "code",
   "execution_count": 1,
   "id": "5c23acfd",
   "metadata": {
    "_cell_guid": "b1076dfc-b9ad-4769-8c92-a6c4dae69d19",
    "_uuid": "8f2839f25d086af736a60e9eeb907d3b93b6e0e5",
    "execution": {
     "iopub.execute_input": "2022-01-20T07:30:30.723786Z",
     "iopub.status.busy": "2022-01-20T07:30:30.722088Z",
     "iopub.status.idle": "2022-01-20T07:30:30.733810Z",
     "shell.execute_reply": "2022-01-20T07:30:30.734353Z"
    },
    "papermill": {
     "duration": 0.024123,
     "end_time": "2022-01-20T07:30:30.734640",
     "exception": false,
     "start_time": "2022-01-20T07:30:30.710517",
     "status": "completed"
    },
    "tags": []
   },
   "outputs": [],
   "source": [
    "# This Python 3 environment comes with many helpful analytics libraries installed\n",
    "# It is defined by the kaggle/python Docker image: https://github.com/kaggle/docker-python\n",
    "# For example, here's several helpful packages to load\n",
    "\n",
    "import numpy as np # linear algebra\n",
    "import pandas as pd # data processing, CSV file I/O (e.g. pd.read_csv)\n",
    "\n",
    "# Input data files are available in the read-only \"../input/\" directory\n",
    "# For example, running this (by clicking run or pressing Shift+Enter) will list all files under the input directory\n",
    "\n",
    "import os\n",
    "for dirname, _, filenames in os.walk('/kaggle/input'):\n",
    "    for filename in filenames:\n",
    "        print(os.path.join(dirname, filename))\n",
    "\n",
    "# You can write up to 20GB to the current directory (/kaggle/working/) that gets preserved as output when you create a version using \"Save & Run All\" \n",
    "# You can also write temporary files to /kaggle/temp/, but they won't be saved outside of the current session"
   ]
  },
  {
   "cell_type": "markdown",
   "id": "d923de81",
   "metadata": {
    "papermill": {
     "duration": 0.008056,
     "end_time": "2022-01-20T07:30:30.751763",
     "exception": false,
     "start_time": "2022-01-20T07:30:30.743707",
     "status": "completed"
    },
    "tags": []
   },
   "source": [
    "1. What is Tree Data Strucutres in Python?\n",
    "2. Parts of a Tree Data Structure\n",
    "3. What is a Binary Tree?\n",
    "4. Conclusion\n"
   ]
  },
  {
   "cell_type": "markdown",
   "id": "96864876",
   "metadata": {
    "papermill": {
     "duration": 0.005781,
     "end_time": "2022-01-20T07:30:30.763634",
     "exception": false,
     "start_time": "2022-01-20T07:30:30.757853",
     "status": "completed"
    },
    "tags": []
   },
   "source": [
    "# What is a Tree Data Structure in Python\n",
    "---\n",
    "A Tree is a Data structure in which data items are connected using references in a hierarchical manner. Each Tree consists of a root node from which we can access each element of the tree. Starting from the root node, each node contains zero or more nodes connected to it as children. A simple binary tree can be depicted as seen in the following figure.\n",
    "\n",
    "![](https://www.pythonforbeginners.com/wp-content/uploads/tree1.png)\n",
    "\n"
   ]
  },
  {
   "cell_type": "markdown",
   "id": "7a37e3cb",
   "metadata": {
    "papermill": {
     "duration": 0.004716,
     "end_time": "2022-01-20T07:30:30.773986",
     "exception": false,
     "start_time": "2022-01-20T07:30:30.769270",
     "status": "completed"
    },
    "tags": []
   },
   "source": [
    "# Parts of a Tree Data Structure\n",
    "---\n",
    "A tree consists of a root node, leaf nodes and internal nodes. Each node is connected to its chile via a reference, which is called an edge. \n",
    "\n",
    "**Root Node:** Root node is the topmost node of a tree. It is always the first node created while creating the tree and we can access each element of the tree starting from the root node. In the above example, the node containing element 50 is the root node.\n",
    "\n",
    "**Parent Node:** The parent of any node is the node which references the current node. In the above example, 50 is the parent of 20 and 45, 20 is parent of 11, 46 and 15. Similarly 45 is the parent of 30 and 78.\n",
    "\n",
    "**Child Node:** Child nodes of a parent node are the nodes at which the parent node is pointing using the references. In the example above, 20 and 45 are children of 50. The nodes 11, 46, and 15 are children of 20 and 30 and 78 are children of 45.\n",
    "\n",
    "**Edge:** The reference through which a parent node is connected to a child node is called an edge. In the above example, each arrow that connects any two nodes is an edge.\n",
    "\n",
    "**Leaf Node:** These are those nodes in the tree which have no children. In the above example, 11, 46, 15, 30, and 78 are leaf nodes.\n",
    "\n",
    "**Internal Nodes:** Internal Nodes are the nodes which have at least one child. In the above example, 50, 20 and 45 are internal nodes.\n",
    "\n",
    "# What is a Binary Tree?\n",
    "---\n",
    "A binary tree is a tree data structure in which each node can have a maximum of 2 children.  It means that each node in a binary tree can have either one, or two or no children. Each node in a binary tree contains data and references to its children. Both the children are named as left child and the right child according to their position. The structure of a node in a binary tree is shown in the following figure.\n",
    "\n",
    "![](https://www.pythonforbeginners.com/wp-content/uploads/node1.png)\n",
    "\n",
    "We can define a node of the structure shown above in python using classes as follows.\n",
    "\n",
    "```\n",
    "class Node:\n",
    "   def __init__(self, data):\n",
    "      self.left = None\n",
    "      self.right = None\n",
    "      self.data = data\n",
    "   def PrintTree(self):\n",
    "      print(self.data)\n",
    "```\n",
    "Here the constructor of the node takes the data value as input, creates an object of BinaryTreeNode type and initializes the data field equal to given input and initializes the references to the children to None. The children can be assigned to the nodes later. An example of a binary tree is shown in the figure below.\n",
    "\n",
    "![](https://www.pythonforbeginners.com/wp-content/uploads/binarytree1-2.png)\n",
    "\n",
    "We can implement the above binary tree in python as follows.\n",
    "\n",
    "```\n",
    "class Node:\n",
    "   def __init__(self, data):\n",
    "      self.left = None\n",
    "      self.right = None\n",
    "      self.data = data\n",
    "\n",
    "   def insert(self, data):\n",
    "# Compare the new value with the parent node\n",
    "      if self.data:\n",
    "         if data < self.data:\n",
    "            if self.left is None:\n",
    "               self.left = Node(data)\n",
    "            else:\n",
    "               self.left.insert(data)\n",
    "            elif data > self.data:\n",
    "               if self.right is None:\n",
    "                  self.right = Node(data)\n",
    "               else:\n",
    "                  self.right.insert(data)\n",
    "      else:\n",
    "         self.data = data\n",
    "\n",
    "# Print the tree\n",
    "   def PrintTree(self):\n",
    "      if self.left:\n",
    "         self.left.PrintTree()\n",
    "      print( self.data),\n",
    "      if self.right:\n",
    "         self.right.PrintTree()\n",
    "\n",
    "# Use the insert method to add nodes\n",
    "root = Node(12)\n",
    "root.insert(6)\n",
    "root.insert(14)\n",
    "root.insert(3)\n",
    "root.PrintTree()\n",
    "```\n"
   ]
  },
  {
   "cell_type": "code",
   "execution_count": 2,
   "id": "ab4e6afa",
   "metadata": {
    "execution": {
     "iopub.execute_input": "2022-01-20T07:30:30.788503Z",
     "iopub.status.busy": "2022-01-20T07:30:30.787767Z",
     "iopub.status.idle": "2022-01-20T07:30:30.798085Z",
     "shell.execute_reply": "2022-01-20T07:30:30.797279Z",
     "shell.execute_reply.started": "2022-01-20T07:07:42.809871Z"
    },
    "papermill": {
     "duration": 0.019421,
     "end_time": "2022-01-20T07:30:30.798303",
     "exception": false,
     "start_time": "2022-01-20T07:30:30.778882",
     "status": "completed"
    },
    "tags": []
   },
   "outputs": [
    {
     "name": "stdout",
     "output_type": "stream",
     "text": [
      "10\n"
     ]
    }
   ],
   "source": [
    "# Creating Root\n",
    "\n",
    "class Node:\n",
    "    def __init__(self, data):\n",
    "        self.left  = None\n",
    "        self.right = None\n",
    "        self.data = data\n",
    "    def PrintTree(self):\n",
    "        print(self.data)\n",
    "        \n",
    "root = Node(10)\n",
    "root.PrintTree()\n"
   ]
  },
  {
   "cell_type": "code",
   "execution_count": 3,
   "id": "fc1dc125",
   "metadata": {
    "execution": {
     "iopub.execute_input": "2022-01-20T07:30:30.813195Z",
     "iopub.status.busy": "2022-01-20T07:30:30.812556Z",
     "iopub.status.idle": "2022-01-20T07:30:30.825051Z",
     "shell.execute_reply": "2022-01-20T07:30:30.825487Z",
     "shell.execute_reply.started": "2022-01-20T07:29:07.046991Z"
    },
    "papermill": {
     "duration": 0.020433,
     "end_time": "2022-01-20T07:30:30.825646",
     "exception": false,
     "start_time": "2022-01-20T07:30:30.805213",
     "status": "completed"
    },
    "tags": []
   },
   "outputs": [
    {
     "name": "stdout",
     "output_type": "stream",
     "text": [
      "[10, 14, 19, 27, 31, 35, 42]\n",
      "[27, 14, 10, 19, 35, 31, 42]\n",
      "[10, 19, 14, 31, 42, 35, 27]\n"
     ]
    }
   ],
   "source": [
    "# Inserting into a Binary Tree:\n",
    "\n",
    "class Node:\n",
    "    def __init__(self, data):\n",
    "        self.left = None\n",
    "        self.right = None\n",
    "        self.data = data\n",
    "        \n",
    "    def insert(self, data):\n",
    "        # Compare the new value with the parent node:\n",
    "        if data < self.data:\n",
    "            if self.left is None:\n",
    "                self.left = Node(data)\n",
    "            else:\n",
    "                self.left.insert(data)\n",
    "        elif data > self.data:\n",
    "            if self.right is None:\n",
    "                self.right = Node(data)\n",
    "            else: \n",
    "                self.right.insert(data)\n",
    "        else:\n",
    "            self.data = data\n",
    "            \n",
    "    # Print the tree (Post order)\n",
    "    def PrintTree(self):\n",
    "        if self.left:\n",
    "            self.left.PrintTree()\n",
    "        print(self.data)\n",
    "        if self.right:\n",
    "            self.right.PrintTree()\n",
    "            \n",
    "    #Inorder traversal\n",
    "    # Left -> Root -> Right\n",
    "    def inorderTraversal(self, root):\n",
    "        res = []\n",
    "        if root:\n",
    "            res = self.inorderTraversal(root.left)\n",
    "            res.append(root.data)\n",
    "            res = res + self.inorderTraversal(root.right)\n",
    "        return res\n",
    "    \n",
    "    # Preorder traversal\n",
    "    # Root -> Left -> Right\n",
    "    def preorderTraversal(self, root):\n",
    "        res = []\n",
    "        if root:\n",
    "            res.append(root.data)\n",
    "            res = res + self.preorderTraversal(root.left)\n",
    "            res = res + self.preorderTraversal(root.right)\n",
    "        return res\n",
    "    \n",
    "    # Postorder Traversal \n",
    "    # Left -> Right -> Root\n",
    "    def postorderTraversal(self, root):\n",
    "        res = []\n",
    "        if root:\n",
    "            res = self.postorderTraversal(root.left)\n",
    "            res = res +self.postorderTraversal(root.right)\n",
    "            res.append(root.data)\n",
    "        return res\n",
    "    \n",
    "#Use the insert method to add Nodes\n",
    "\n",
    "root = Node(27)\n",
    "root.insert(14)\n",
    "root.insert(35)\n",
    "root.insert(10)\n",
    "root.insert(19)\n",
    "root.insert(31)\n",
    "root.insert(42)\n",
    "print(root.inorderTraversal(root))\n",
    "print(root.preorderTraversal(root))\n",
    "print(root.postorderTraversal(root))"
   ]
  }
 ],
 "metadata": {
  "kernelspec": {
   "display_name": "Python 3",
   "language": "python",
   "name": "python3"
  },
  "language_info": {
   "codemirror_mode": {
    "name": "ipython",
    "version": 3
   },
   "file_extension": ".py",
   "mimetype": "text/x-python",
   "name": "python",
   "nbconvert_exporter": "python",
   "pygments_lexer": "ipython3",
   "version": "3.7.12"
  },
  "papermill": {
   "default_parameters": {},
   "duration": 9.822661,
   "end_time": "2022-01-20T07:30:31.439451",
   "environment_variables": {},
   "exception": null,
   "input_path": "__notebook__.ipynb",
   "output_path": "__notebook__.ipynb",
   "parameters": {},
   "start_time": "2022-01-20T07:30:21.616790",
   "version": "2.3.3"
  }
 },
 "nbformat": 4,
 "nbformat_minor": 5
}
